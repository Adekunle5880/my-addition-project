{
 "cells": [
  {
   "cell_type": "code",
   "execution_count": 14,
   "metadata": {},
   "outputs": [],
   "source": [
    "import pandas as pd\n",
    "import requests\n",
    "import numpy as np\n",
    "from bs4 import BeautifulSoup"
   ]
  },
  {
   "cell_type": "code",
   "execution_count": 15,
   "metadata": {},
   "outputs": [],
   "source": [
    "data = pd.DataFrame()\n",
    "pd.options.mode.chained_assignment = None #Prevent error Warning of a copy in memory"
   ]
  },
  {
   "cell_type": "code",
   "execution_count": null,
   "metadata": {
    "scrolled": true
   },
   "outputs": [
    {
     "name": "stdout",
     "output_type": "stream",
     "text": [
      "page 0 Done.\n",
      "page 1 Done.\n",
      "page 2 Done.\n",
      "page 3 Done.\n"
     ]
    }
   ],
   "source": [
    "count = 0 \n",
    "while count < 20    :\n",
    "    res = requests.get(\"http://www.ngtradeonline.com/Home/PriceHistory?page=\"+str(count)+\"&stockName=GUARANTY\")\n",
    "    soup = BeautifulSoup(res.content,'lxml') #Use Beautiful soup to prettify our data\n",
    "    table = soup.find_all('table')[0] #Find all the html tag named 'table'\n",
    "    html_data = pd.read_html(str(table))[0] #Read the content of found html tables\n",
    "    data = data.append(html_data) # Append to the empty Dataframe above\n",
    "    print(\"page \"+str(count)+\" Done.\") #Keep track of each web page read\n",
    "    count = count + 1\n",
    "data.to_csv('GTB_data.csv') # Export the data to a CSV file"
   ]
  },
  {
   "cell_type": "code",
   "execution_count": null,
   "metadata": {},
   "outputs": [],
   "source": []
  }
 ],
 "metadata": {
  "kernelspec": {
   "display_name": "Python 3",
   "language": "python",
   "name": "python3"
  },
  "language_info": {
   "codemirror_mode": {
    "name": "ipython",
    "version": 3
   },
   "file_extension": ".py",
   "mimetype": "text/x-python",
   "name": "python",
   "nbconvert_exporter": "python",
   "pygments_lexer": "ipython3",
   "version": "3.7.0"
  }
 },
 "nbformat": 4,
 "nbformat_minor": 2
}
