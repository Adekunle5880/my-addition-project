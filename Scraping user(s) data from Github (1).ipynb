{
 "cells": [
  {
   "cell_type": "markdown",
   "metadata": {},
   "source": [
    "## Importing Modules"
   ]
  },
  {
   "cell_type": "code",
   "execution_count": 1,
   "metadata": {},
   "outputs": [],
   "source": [
    "import pandas as pd\n",
    "import numpy as np\n",
    "import requests\n",
    "from bs4 import BeautifulSoup as bs\n",
    "import re"
   ]
  },
  {
   "cell_type": "code",
   "execution_count": 5,
   "metadata": {},
   "outputs": [
    {
     "name": "stdout",
     "output_type": "stream",
     "text": [
      "How many users: 8\n",
      "Please enter username: adekunle5880\n",
      "Please enter username: olahfemi\n",
      "Please enter username: izunna-norbert\n",
      "Please enter username: aminuisrael\n",
      "Please enter username: dareeyolad\n",
      "Please enter username: david-dynamic\n",
      "Please enter username: sage-hermit\n",
      "Please enter username: qodri4\n"
     ]
    },
    {
     "data": {
      "text/html": [
       "<div>\n",
       "<style scoped>\n",
       "    .dataframe tbody tr th:only-of-type {\n",
       "        vertical-align: middle;\n",
       "    }\n",
       "\n",
       "    .dataframe tbody tr th {\n",
       "        vertical-align: top;\n",
       "    }\n",
       "\n",
       "    .dataframe thead th {\n",
       "        text-align: right;\n",
       "    }\n",
       "</style>\n",
       "<table border=\"1\" class=\"dataframe\">\n",
       "  <thead>\n",
       "    <tr style=\"text-align: right;\">\n",
       "      <th></th>\n",
       "      <th>Details</th>\n",
       "      <th>Details</th>\n",
       "      <th>Details</th>\n",
       "      <th>Details</th>\n",
       "      <th>Details</th>\n",
       "      <th>Details</th>\n",
       "      <th>Details</th>\n",
       "      <th>Details</th>\n",
       "    </tr>\n",
       "  </thead>\n",
       "  <tbody>\n",
       "    <tr>\n",
       "      <th>username</th>\n",
       "      <td>adekunle5880</td>\n",
       "      <td>olahfemi</td>\n",
       "      <td>izunna-norbert</td>\n",
       "      <td>aminuisrael</td>\n",
       "      <td>dareeyolad</td>\n",
       "      <td>david-dynamic</td>\n",
       "      <td>sage-hermit</td>\n",
       "      <td>qodri4</td>\n",
       "    </tr>\n",
       "    <tr>\n",
       "      <th>Name</th>\n",
       "      <td></td>\n",
       "      <td>Olah Femi Johnson</td>\n",
       "      <td>Agu Izunna Norbert</td>\n",
       "      <td>Aminu Israel</td>\n",
       "      <td></td>\n",
       "      <td></td>\n",
       "      <td>Gerald D Peter</td>\n",
       "      <td></td>\n",
       "    </tr>\n",
       "    <tr>\n",
       "      <th>Num of Repo</th>\n",
       "      <td>3</td>\n",
       "      <td>19</td>\n",
       "      <td>2</td>\n",
       "      <td>6</td>\n",
       "      <td>1</td>\n",
       "      <td>0</td>\n",
       "      <td>2</td>\n",
       "      <td>3</td>\n",
       "    </tr>\n",
       "    <tr>\n",
       "      <th>Num of Contribution</th>\n",
       "      <td>9</td>\n",
       "      <td>14</td>\n",
       "      <td>7</td>\n",
       "      <td>33</td>\n",
       "      <td>3</td>\n",
       "      <td>1 contribution in the last year</td>\n",
       "      <td>3</td>\n",
       "      <td>9</td>\n",
       "    </tr>\n",
       "  </tbody>\n",
       "</table>\n",
       "</div>"
      ],
      "text/plain": [
       "                          Details            Details             Details  \\\n",
       "username             adekunle5880           olahfemi      izunna-norbert   \n",
       "Name                               Olah Femi Johnson  Agu Izunna Norbert   \n",
       "Num of Repo                     3                 19                   2   \n",
       "Num of Contribution             9                 14                   7   \n",
       "\n",
       "                          Details     Details  \\\n",
       "username              aminuisrael  dareeyolad   \n",
       "Name                 Aminu Israel               \n",
       "Num of Repo                     6           1   \n",
       "Num of Contribution            33           3   \n",
       "\n",
       "                                              Details         Details Details  \n",
       "username                                david-dynamic     sage-hermit  qodri4  \n",
       "Name                                                   Gerald D Peter          \n",
       "Num of Repo                                         0               2       3  \n",
       "Num of Contribution  1 contribution in the last year                3       9  "
      ]
     },
     "execution_count": 5,
     "metadata": {},
     "output_type": "execute_result"
    }
   ],
   "source": [
    "num = int(input(\"How many users: \"))\n",
    "users_data = []\n",
    "while num >= 1:\n",
    "    username = (input(\"Please enter username: \")).lower()\n",
    "\n",
    "    url = (\"https://github.com/{}\").format(username)\n",
    "\n",
    "    web_data = requests.get(url)\n",
    "\n",
    "    data = web_data.content\n",
    "\n",
    "    beautify = bs(data,\"lxml\")\n",
    "\n",
    "    #getting name of user\n",
    "    name_of_user = beautify.find(\"span\",attrs={'class':'p-name vcard-fullname d-block overflow-hidden'})\n",
    "    name_of_user = name_of_user.text\n",
    "\n",
    "\n",
    "    #getting number of repo\n",
    "    no_of_repo = beautify.find(\"span\",attrs={'class':'Counter'})\n",
    "\n",
    "    no_of_repo =no_of_repo.text\n",
    "\n",
    "    no_of_repo = no_of_repo.replace(\"\\n\",\"\")\n",
    "\n",
    "    no_of_repo = no_of_repo.strip()\n",
    "\n",
    "\n",
    "    #Contributions\n",
    "    contribution = beautify.find(\"h2\",attrs={'class':'f4 text-normal mb-2'})\n",
    "    contribution =contribution.text\n",
    "    contribution = contribution.replace(\"\\n\",\"\")\n",
    "    contribution = re.sub(' +', ' ',contribution)\n",
    "    contribution = contribution.lstrip()\n",
    "\n",
    "    \n",
    "    con = contribution.replace(\" contributions in the last year \",\"\")\n",
    "    \n",
    "    #Creating a Dataframe\n",
    "    data = [[username],[name_of_user],[no_of_repo],[con]]\n",
    "    Table = pd.DataFrame(data,[\"username\",\"Name\",\"Num of Repo\",\"Num of Contribution\"],[\"Details\"])\n",
    "    users_data.append(Table)\n",
    "    num = num - 1\n",
    "\n",
    "\n",
    "pd.concat(users_data,ignore_index=False,axis=1)"
   ]
  },
  {
   "cell_type": "markdown",
   "metadata": {},
   "source": [
    "## Saving Data to .csv"
   ]
  },
  {
   "cell_type": "code",
   "execution_count": 6,
   "metadata": {},
   "outputs": [],
   "source": [
    "data = pd.concat(users_data,ignore_index=False,axis=1)\n",
    "\n",
    "data.to_csv(\"user_data.csv\") "
   ]
  },
  {
   "cell_type": "code",
   "execution_count": null,
   "metadata": {},
   "outputs": [],
   "source": []
  }
 ],
 "metadata": {
  "kernelspec": {
   "display_name": "Python 3",
   "language": "python",
   "name": "python3"
  },
  "language_info": {
   "codemirror_mode": {
    "name": "ipython",
    "version": 3
   },
   "file_extension": ".py",
   "mimetype": "text/x-python",
   "name": "python",
   "nbconvert_exporter": "python",
   "pygments_lexer": "ipython3",
   "version": "3.7.1"
  }
 },
 "nbformat": 4,
 "nbformat_minor": 2
}
